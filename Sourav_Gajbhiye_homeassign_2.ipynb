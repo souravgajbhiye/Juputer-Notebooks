{
 "cells": [
  {
   "cell_type": "markdown",
   "metadata": {},
   "source": []
  },
  {
   "cell_type": "code",
   "execution_count": 2,
   "metadata": {},
   "outputs": [],
   "source": [
    "import numpy as np\n",
    "import pandas as pd\n",
    "import matplotlib.pyplot as plt\n",
    "%matplotlib inline"
   ]
  },
  {
   "cell_type": "code",
   "execution_count": 3,
   "metadata": {
    "scrolled": true
   },
   "outputs": [
    {
     "data": {
      "text/html": [
       "<div>\n",
       "<style scoped>\n",
       "    .dataframe tbody tr th:only-of-type {\n",
       "        vertical-align: middle;\n",
       "    }\n",
       "\n",
       "    .dataframe tbody tr th {\n",
       "        vertical-align: top;\n",
       "    }\n",
       "\n",
       "    .dataframe thead th {\n",
       "        text-align: right;\n",
       "    }\n",
       "</style>\n",
       "<table border=\"1\" class=\"dataframe\">\n",
       "  <thead>\n",
       "    <tr style=\"text-align: right;\">\n",
       "      <th></th>\n",
       "      <th>speed</th>\n",
       "      <th>dist</th>\n",
       "    </tr>\n",
       "  </thead>\n",
       "  <tbody>\n",
       "    <tr>\n",
       "      <th>0</th>\n",
       "      <td>4</td>\n",
       "      <td>2</td>\n",
       "    </tr>\n",
       "    <tr>\n",
       "      <th>1</th>\n",
       "      <td>4</td>\n",
       "      <td>10</td>\n",
       "    </tr>\n",
       "    <tr>\n",
       "      <th>2</th>\n",
       "      <td>7</td>\n",
       "      <td>4</td>\n",
       "    </tr>\n",
       "    <tr>\n",
       "      <th>3</th>\n",
       "      <td>7</td>\n",
       "      <td>22</td>\n",
       "    </tr>\n",
       "    <tr>\n",
       "      <th>4</th>\n",
       "      <td>8</td>\n",
       "      <td>16</td>\n",
       "    </tr>\n",
       "  </tbody>\n",
       "</table>\n",
       "</div>"
      ],
      "text/plain": [
       "   speed  dist\n",
       "0      4     2\n",
       "1      4    10\n",
       "2      7     4\n",
       "3      7    22\n",
       "4      8    16"
      ]
     },
     "execution_count": 3,
     "metadata": {},
     "output_type": "execute_result"
    }
   ],
   "source": [
    "df = pd.read_csv(\"Cars.csv\")\n",
    "df.head()"
   ]
  },
  {
   "cell_type": "code",
   "execution_count": 105,
   "metadata": {},
   "outputs": [],
   "source": [
    "x =df.speed\n",
    "y = df.dist"
   ]
  },
  {
   "cell_type": "code",
   "execution_count": 4,
   "metadata": {},
   "outputs": [
    {
     "data": {
      "image/png": "[encoded data removed]",
      "text/plain": [
       "<Figure size 432x288 with 1 Axes>"
      ]
     },
     "metadata": {
      "needs_background": "light"
     },
     "output_type": "display_data"
    }
   ],
   "source": [
    "plt.scatter(df.speed, df.dist)\n",
    "plt.xlabel(\"Speed\")\n",
    "plt.ylabel(\"dst\")\n",
    "plt.title(\"Scatter Plot\")\n",
    "plt.show()"
   ]
  },
  {
   "cell_type": "code",
   "execution_count": 112,
   "metadata": {},
   "outputs": [
    {
     "name": "stderr",
     "output_type": "stream",
     "text": [
      "C:\\Users\\soura\\AppData\\Local\\Continuum\\anaconda3\\lib\\site-packages\\ipykernel_launcher.py:11: RuntimeWarning: divide by zero encountered in double_scalars\n",
      "  # This is added back by InteractiveShellApp.init_path()\n"
     ]
    }
   ],
   "source": [
    "def SSE(error): #Sum of Squares of Errors\n",
    "    return np.sum([e*e for e in y_pred])\n",
    "\n",
    "def SST(Y): #Total Sum of Squares\n",
    "    ybar = np.sum(Y)\n",
    "    return np.sum([(y-np.mean(y))**2 for y in Y])\n",
    "def fstat(SSE, SST):\n",
    "    SSR = SST - SSE\n",
    "    return (SSR/SSE)\n",
    "def RSquared(SSE, SST): #R^2 - Coefficient of Determination\n",
    "    return (1-(SSE/SST))\n",
    "\n",
    "def RSquaredAdj(r2, n, p): #Adjusted R-Square\n",
    "    return (1 - (1 - r2) * ((n - 1)/(n-p-1)))\n",
    "\n",
    "def MSE(Y, ypred): #Mean Square Error\n",
    "    return np.mean((Y - ypred)**2)\n",
    "\n",
    "def RMSE(error): #Root Mean Square Error\n",
    "    return np.sqrt(np.mean([e*e for e in y_pred]))\n",
    "\n",
    "def RSE(error): #Residual Standard error\n",
    "    return np.sqrt((np.sum([e*e for e in y_pred]))/(len(y_pred)-2))\n",
    "\n",
    "SSE = SSE(y_pred)\n",
    "SST = SST(y)\n",
    "R2 = RSquared(SSE, SST)\n",
    "AdjR2 = RSquaredAdj(R2, len(y), 1) #No of predictors in this case = 1\n",
    "MSE = MSE(y, y_pred)\n",
    "RMSE = RMSE(y_pred)\n",
    "RSE = RSE(y_pred)\n",
    "Fstat = fstat(SSE, SST)"
   ]
  },
  {
   "cell_type": "markdown",
   "metadata": {},
   "source": [
    "# Calculate the coefficients β0 and β1 "
   ]
  },
  {
   "cell_type": "code",
   "execution_count": 54,
   "metadata": {},
   "outputs": [
    {
     "name": "stdout",
     "output_type": "stream",
     "text": [
      "Values of B0 and B1 :\n",
      "Values of B0 and B1 :\n",
      "(-17.579094890510966, 3.9324087591240886)\n"
     ]
    }
   ],
   "source": [
    "def estimate_coef(x, y): \n",
    "\n",
    "    n = np.size(x) \n",
    "  \n",
    "    # mean of x and y vector \n",
    "    m_x, m_y = np.mean(x), np.mean(y) \n",
    "  \n",
    "    # calculating cross-deviation and deviation about x \n",
    "    SS_xy = np.sum(y*x) - n*m_y*m_x \n",
    "    SS_xx = np.sum(x*x) - n*m_x*m_x \n",
    "  \n",
    "    # calculating regression coefficients \n",
    "    b_1 = SS_xy / SS_xx \n",
    "    b_0 = m_y - b_1*m_x \n",
    "    print('Values of B0 and B1 :')\n",
    "  \n",
    "    return(b_0, b_1)\n",
    "\n",
    "print(estimate_coef(x,y))"
   ]
  },
  {
   "cell_type": "markdown",
   "metadata": {},
   "source": [
    "# Calculate the Standard Errors associated with β0 and β1 "
   ]
  },
  {
   "cell_type": "code",
   "execution_count": 15,
   "metadata": {},
   "outputs": [
    {
     "name": "stdout",
     "output_type": "stream",
     "text": [
      "Standard Errors associated with B0 and B1 are :\n"
     ]
    },
    {
     "data": {
      "text/plain": [
       "(0.4155127766571223, 6.758440169379235)"
      ]
     },
     "execution_count": 15,
     "metadata": {},
     "output_type": "execute_result"
    }
   ],
   "source": [
    "def std_error(x,y):\n",
    "    n = np.size(x) \n",
    "\n",
    "    # mean of x and y vector \n",
    "    m_x, m_y = np.mean(x), np.mean(y) \n",
    "\n",
    "    # calculating cross-deviation and deviation about x \n",
    "    S_xy = np.sum(y*x) - ((np.sum(x)*np.sum(y))/n) \n",
    "    S_xx = np.sum(x*x) - (((np.sum(x))**2)/n) \n",
    "\n",
    "    # calculating regression coefficients \n",
    "    b_1_cap = S_xy / S_xx \n",
    "    b_0_cap = m_y - b_1_cap*m_x \n",
    "\n",
    "    yi_cap = b_0_cap + b_1_cap*x\n",
    "    sigma2 = (np.sum((y-yi_cap)**2))/(n-2)\n",
    "    std_b1_cap = np.sqrt(sigma2/S_xx)\n",
    "    std_b0_cap = np.sqrt(sigma2*(1/n + (m_x**2/S_xx)))\n",
    "    print('Standard Errors associated with B0 and B1 are :')\n",
    "    return(std_b1_cap,std_b0_cap)\n",
    "\n",
    "std_error(x,y)"
   ]
  },
  {
   "cell_type": "markdown",
   "metadata": {},
   "source": [
    "# Calculate the t-values and p-value associated with β0 and β1 "
   ]
  },
  {
   "cell_type": "code",
   "execution_count": 37,
   "metadata": {},
   "outputs": [
    {
     "name": "stdout",
     "output_type": "stream",
     "text": [
      "T value for slope :\n",
      "9.463989990298373\n",
      "Pvalue :\n",
      "0.9945093769231558\n"
     ]
    }
   ],
   "source": [
    "def slope_t_values(b_1_cap,std_b1_cap):\n",
    "    t0 = b_1_cap/std_b1_cap\n",
    "    print('T value for slope :')\n",
    "    return t0\n",
    "\n",
    "\n",
    "def intcpt_t_values(b_0_cap,std_b0_cap):\n",
    "    t0 = b_0_cap/std_b0_cap\n",
    "    print('T value for Intercept :')\n",
    "    return T0\n",
    "def pvalue(t0):\n",
    "    import scipy.stats as ss\n",
    "    print('Pvalue :')\n",
    "    return ss.t.cdf(t0,2)\n",
    "\n",
    "print(slope_t_values(b_1_cap,std_b1_cap))\n",
    "print(pvalue(t0))"
   ]
  },
  {
   "cell_type": "markdown",
   "metadata": {},
   "source": [
    "# Model the regression line:  𝒅𝒊𝒔𝒕 ̂ =  β0 + β1 * speed "
   ]
  },
  {
   "cell_type": "code",
   "execution_count": 73,
   "metadata": {
    "scrolled": true
   },
   "outputs": [],
   "source": [
    "def ypred(x,b_0,b_1):\n",
    "    ypred =[]\n",
    "    for i in range(len(x)):\n",
    "        ypred.append(b_0+b_1*x[i])\n",
    "    return(ypred)\n",
    "y_pred = ypred(x,b_0,b_1)"
   ]
  },
  {
   "cell_type": "code",
   "execution_count": 55,
   "metadata": {},
   "outputs": [
    {
     "name": "stdout",
     "output_type": "stream",
     "text": [
      "-17.579094890510966\n"
     ]
    }
   ],
   "source": [
    "def RSE(error): #Residual Standard error\n",
    "    return np.sqrt((np.sum([e*e for e in error]))/(len(error)-2))"
   ]
  },
  {
   "cell_type": "markdown",
   "metadata": {},
   "source": [
    "# Create a plot of predicted dist v/s actual dist and explain your observations."
   ]
  },
  {
   "cell_type": "code",
   "execution_count": 110,
   "metadata": {},
   "outputs": [
    {
     "data": {
      "image/png": "[encoded data removed]",
      "text/plain": [
       "<Figure size 432x288 with 1 Axes>"
      ]
     },
     "metadata": {
      "needs_background": "light"
     },
     "output_type": "display_data"
    }
   ],
   "source": [
    "plt.scatter(x, y)\n",
    "plt.xlabel(\"Speed\")\n",
    "plt.ylabel(\"Distance\")\n",
    "plt.plot(np.array(x), y_pred, color='red', linewidth=3)\n",
    "plt.show()"
   ]
  },
  {
   "cell_type": "markdown",
   "metadata": {},
   "source": [
    "# Create a scatter plot of the residuals and explain your observations."
   ]
  },
  {
   "cell_type": "code",
   "execution_count": 83,
   "metadata": {},
   "outputs": [
    {
     "data": {
      "image/png": "[encoded data removed]",
      "text/plain": [
       "<Figure size 432x288 with 1 Axes>"
      ]
     },
     "metadata": {
      "needs_background": "light"
     },
     "output_type": "display_data"
    }
   ],
   "source": [
    "#Residual Plot\n",
    "residual = y - y_pred\n",
    "plt.plot(x, residual,  'b.')\n",
    "plt.plot([0, 30],[0,0],'r')\n",
    "plt.xlabel(\"X(Speed)\")\n",
    "plt.ylabel(\"Residual\")\n",
    "plt.title(\"Residual Plot\")\n",
    "plt.show()\n"
   ]
  },
  {
   "cell_type": "markdown",
   "metadata": {},
   "source": [
    "There is no pattern in the above residual plot but it has uneven spread (variance) because of outliers."
   ]
  },
  {
   "cell_type": "markdown",
   "metadata": {},
   "source": [
    "# Are the residuals normally distributed? Evaluate by creating and understanding the QuantileQuantile plot"
   ]
  },
  {
   "cell_type": "code",
   "execution_count": 84,
   "metadata": {},
   "outputs": [
    {
     "data": {
      "text/plain": [
       "0.9426251795863478"
      ]
     },
     "execution_count": 84,
     "metadata": {},
     "output_type": "execute_result"
    },
    {
     "data": {
      "image/png": "[encoded data removed]",
      "text/plain": [
       "<Figure size 432x216 with 1 Axes>"
      ]
     },
     "metadata": {
      "needs_background": "light"
     },
     "output_type": "display_data"
    }
   ],
   "source": [
    "# Q-Q Plot to check the normality of residuals\n",
    "\n",
    "residual = y - y_pred\n",
    "import scipy as sp\n",
    "fig, ax = plt.subplots(figsize=(6,3))\n",
    "_, (__, ___, r) = sp.stats.probplot(residual.ravel(), plot=ax, fit=True)\n",
    "r**2"
   ]
  },
  {
   "cell_type": "code",
   "execution_count": 86,
   "metadata": {},
   "outputs": [
    {
     "name": "stdout",
     "output_type": "stream",
     "text": [
      "Pvalue :\n",
      "Pvalue :\n"
     ]
    },
    {
     "data": {
      "text/html": [
       "<div>\n",
       "<style scoped>\n",
       "    .dataframe tbody tr th:only-of-type {\n",
       "        vertical-align: middle;\n",
       "    }\n",
       "\n",
       "    .dataframe tbody tr th {\n",
       "        vertical-align: top;\n",
       "    }\n",
       "\n",
       "    .dataframe thead th {\n",
       "        text-align: right;\n",
       "    }\n",
       "</style>\n",
       "<table border=\"1\" class=\"dataframe\">\n",
       "  <thead>\n",
       "    <tr style=\"text-align: right;\">\n",
       "      <th></th>\n",
       "      <th>Estimates</th>\n",
       "      <th>Std. Error</th>\n",
       "      <th>t-value</th>\n",
       "      <th>p-value</th>\n",
       "      <th>Comments</th>\n",
       "    </tr>\n",
       "    <tr>\n",
       "      <th>Coefficients</th>\n",
       "      <th></th>\n",
       "      <th></th>\n",
       "      <th></th>\n",
       "      <th></th>\n",
       "      <th></th>\n",
       "    </tr>\n",
       "  </thead>\n",
       "  <tbody>\n",
       "    <tr>\n",
       "      <th>Intercept (β0)</th>\n",
       "      <td>-17.579095</td>\n",
       "      <td>6.75844</td>\n",
       "      <td>9.463990</td>\n",
       "      <td>0.994509</td>\n",
       "      <td>Since p-value is grreater than 0.05 we can acc...</td>\n",
       "    </tr>\n",
       "    <tr>\n",
       "      <th>X1 (β1)</th>\n",
       "      <td>3.932409</td>\n",
       "      <td>6.75844</td>\n",
       "      <td>-2.601058</td>\n",
       "      <td>0.060730</td>\n",
       "      <td>Since p-value is grreater than 0.05 we can acc...</td>\n",
       "    </tr>\n",
       "  </tbody>\n",
       "</table>\n",
       "</div>"
      ],
      "text/plain": [
       "                Estimates  Std. Error   t-value   p-value  \\\n",
       "Coefficients                                                \n",
       "Intercept (β0) -17.579095     6.75844  9.463990  0.994509   \n",
       "X1 (β1)          3.932409     6.75844 -2.601058  0.060730   \n",
       "\n",
       "                                                         Comments  \n",
       "Coefficients                                                       \n",
       "Intercept (β0)  Since p-value is grreater than 0.05 we can acc...  \n",
       "X1 (β1)         Since p-value is grreater than 0.05 we can acc...  "
      ]
     },
     "metadata": {},
     "output_type": "display_data"
    }
   ],
   "source": [
    "data = pd.DataFrame({'Coefficients': ['Intercept (β0)', 'X1 (β1)'], 'Estimates': [b_0, b_1], 'Std. Error': [std_b0_cap, std_b0_cap], 't-value': [t0, T0], 'p-value': [pvalue(t0), pvalue(T0)], 'Comments': ['Since p-value is grreater than 0.05 we can accept the Null Hypothesis', 'Since p-value is grreater than 0.05 we can accept the Null Hypothesis']})\n",
    "data.set_index('Coefficients', inplace=True)\n",
    "display(data)"
   ]
  },
  {
   "cell_type": "code",
   "execution_count": null,
   "metadata": {},
   "outputs": [],
   "source": []
  },
  {
   "cell_type": "code",
   "execution_count": 113,
   "metadata": {},
   "outputs": [
    {
     "data": {
      "text/html": [
       "<div>\n",
       "<style scoped>\n",
       "    .dataframe tbody tr th:only-of-type {\n",
       "        vertical-align: middle;\n",
       "    }\n",
       "\n",
       "    .dataframe tbody tr th {\n",
       "        vertical-align: top;\n",
       "    }\n",
       "\n",
       "    .dataframe thead th {\n",
       "        text-align: right;\n",
       "    }\n",
       "</style>\n",
       "<table border=\"1\" class=\"dataframe\">\n",
       "  <thead>\n",
       "    <tr style=\"text-align: right;\">\n",
       "      <th></th>\n",
       "      <th>0</th>\n",
       "      <th>1</th>\n",
       "      <th>2</th>\n",
       "      <th>3</th>\n",
       "    </tr>\n",
       "  </thead>\n",
       "  <tbody>\n",
       "    <tr>\n",
       "      <th>0</th>\n",
       "      <td>Residual Standard Error</td>\n",
       "      <td>48.63758</td>\n",
       "      <td>Degree of Freedom</td>\n",
       "      <td>1</td>\n",
       "    </tr>\n",
       "    <tr>\n",
       "      <th>1</th>\n",
       "      <td>Multiple R-Squared</td>\n",
       "      <td>-inf</td>\n",
       "      <td>Adjusted R-sqaured</td>\n",
       "      <td>-inf</td>\n",
       "    </tr>\n",
       "    <tr>\n",
       "      <th>2</th>\n",
       "      <td>F Statistic</td>\n",
       "      <td>-1.00000</td>\n",
       "      <td></td>\n",
       "      <td></td>\n",
       "    </tr>\n",
       "  </tbody>\n",
       "</table>\n",
       "</div>"
      ],
      "text/plain": [
       "                         0         1                   2    3\n",
       "0  Residual Standard Error  48.63758   Degree of Freedom    1\n",
       "1       Multiple R-Squared      -inf  Adjusted R-sqaured -inf\n",
       "2              F Statistic  -1.00000                         "
      ]
     },
     "metadata": {},
     "output_type": "display_data"
    }
   ],
   "source": [
    "data2 = pd.DataFrame({0: [\"Residual Standard Error\", \"Multiple R-Squared\", \"F Statistic\"], 1: [RSE, R2, Fstat], 2: [\"Degree of Freedom\", \"Adjusted R-sqaured\", \"\"], 3: [1, AdjR2, \"\"]})\n",
    "display(data2)"
   ]
  },
  {
   "cell_type": "markdown",
   "metadata": {},
   "source": [
    "## we hereby agree that this assignment is done in group and is original.\n",
    "## group members: Sourav Gajbhiye and Shinakshi Sankhayan"
   ]
  },
  {
   "cell_type": "code",
   "execution_count": null,
   "metadata": {},
   "outputs": [],
   "source": []
  }
 ],
 "metadata": {
  "kernelspec": {
   "display_name": "Python 3",
   "language": "python",
   "name": "python3"
  },
  "language_info": {
   "codemirror_mode": {
    "name": "ipython",
    "version": 3
   },
   "file_extension": ".py",
   "mimetype": "text/x-python",
   "name": "python",
   "nbconvert_exporter": "python",
   "pygments_lexer": "ipython3",
   "version": "3.7.3"
  }
 },
 "nbformat": 4,
 "nbformat_minor": 2
}
