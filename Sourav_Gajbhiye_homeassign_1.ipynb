{
 "cells": [
  {
   "cell_type": "code",
   "execution_count": 81,
   "metadata": {},
   "outputs": [
    {
     "data": {
      "image/png": "[encoded data removed]",
      "text/plain": [
       "<Figure size 432x288 with 1 Axes>"
      ]
     },
     "metadata": {
      "needs_background": "light"
     },
     "output_type": "display_data"
    },
    {
     "name": "stdout",
     "output_type": "stream",
     "text": [
      "Test Mean Squared Error : 80612.23576166225\n",
      "Test Root Mean Squared Error : 283.92293982991623\n",
      "Coefficient Of Determination : 0.31306040595448725\n"
     ]
    }
   ],
   "source": [
    "import numpy as np\n",
    "import pandas as pd\n",
    "import matplotlib.pyplot as plt\n",
    "from sklearn.linear_model import LinearRegression\n",
    "\n",
    "%matplotlib inline\n",
    "\n",
    "df = pd.read_csv(\"BrainBody.csv\")\n",
    "from sklearn.model_selection import train_test_split\n",
    "seed = 10\n",
    "test_size = 0.3\n",
    "X_train, X_test, y_train, y_test = train_test_split(X, y, test_size = test_size, random_state = seed) \n",
    "\n",
    "plt.scatter(df.BrainW, df.BodyW)\n",
    "plt.xlabel(\"BrainW\")\n",
    "plt.ylabel(\"BodyW\")\n",
    "plt.title(\"Scatter Plot\")\n",
    "plt.show()\n",
    "\n",
    "y_test_pred = lm_1.intercept_ + lm_1.coef_*X_test \n",
    "lm = LinearRegression()     # Create linear Regression Object\n",
    "lm.fit(df[['BrainW']],df['BodyW'])\n",
    "\n",
    "lm_1 = LinearRegression()\n",
    "lm_1.fit(X_train,y_train)\n",
    "y_pred = lm_1.predict(X_test)\n",
    "#print(y_pred)\n",
    "\n",
    "#print(lm_1.coef_ , lm_1.intercept_)\n",
    "print('Test Mean Squared Error :',mean_squared_error(y_test,y_test_pred))\n",
    "\n",
    "print('Test Root Mean Squared Error :',np.sqrt(mean_squared_error(y_test,y_test_pred)))\n",
    "print('Coefficient Of Determination :',r2_score(y_test,y_test_pred))"
   ]
  },
  {
   "cell_type": "code",
   "execution_count": 85,
   "metadata": {
    "scrolled": true
   },
   "outputs": [
    {
     "name": "stdout",
     "output_type": "stream",
     "text": [
      "Train Mean Squared Error : 121020.43441956265\n",
      "Train Root Mean Squared Error : 347.8799137914729\n",
      "Coefficient Of Determination : 0.8969481012772117\n"
     ]
    }
   ],
   "source": [
    "y_pred = lm_1.predict(X_train)\n",
    "y_train_pred = lm_1.intercept_ + lm_1.coef_*X_train \n",
    "print('Train Mean Squared Error :',mean_squared_error(y_train,y_train_pred))\n",
    "\n",
    "print('Train Root Mean Squared Error :',np.sqrt(mean_squared_error(y_train,y_train_pred)))\n",
    "print('Coefficient Of Determination :',r2_score(y_train,y_train_pred))"
   ]
  },
  {
   "cell_type": "markdown",
   "metadata": {},
   "source": [
    "## train RMSE =347.8799\n",
    "## test RMSE=283.9222\n",
    "## train R square=0.8969\n",
    "## test R square= 0.3130\n",
    "## As there is huge difference in RMSE values of train set and test set, this model is not good fit. There should be less difference between these values so that it should be close to each other.\n",
    "## moreover R square value for train set is close to 1 and that of test set is close to 0 which indicates that it is case of overfitting.\n",
    "## and test RMSE < train RMSE implies overfitting"
   ]
  },
  {
   "cell_type": "markdown",
   "metadata": {},
   "source": [
    "# Using Stats.model.api"
   ]
  },
  {
   "cell_type": "code",
   "execution_count": 88,
   "metadata": {},
   "outputs": [
    {
     "name": "stdout",
     "output_type": "stream",
     "text": [
      "                            OLS Regression Results                            \n",
      "==============================================================================\n",
      "Dep. Variable:                  BodyW   R-squared:                       0.897\n",
      "Model:                            OLS   Adj. R-squared:                  0.894\n",
      "Method:                 Least Squares   F-statistic:                     356.9\n",
      "Date:                Sat, 18 Jan 2020   Prob (F-statistic):           7.64e-22\n",
      "Time:                        23:55:25   Log-Likelihood:                -312.64\n",
      "No. Observations:                  43   AIC:                             629.3\n",
      "Df Residuals:                      41   BIC:                             632.8\n",
      "Df Model:                           1                                         \n",
      "Covariance Type:            nonrobust                                         \n",
      "==============================================================================\n",
      "                 coef    std err          t      P>|t|      [0.025      0.975]\n",
      "------------------------------------------------------------------------------\n",
      "Intercept     76.3853     55.654      1.373      0.177     -36.010     188.781\n",
      "BrainW         0.9664      0.051     18.891      0.000       0.863       1.070\n",
      "==============================================================================\n",
      "Omnibus:                       79.487   Durbin-Watson:                   2.610\n",
      "Prob(Omnibus):                  0.000   Jarque-Bera (JB):             1413.064\n",
      "Skew:                           4.603   Prob(JB):                    1.44e-307\n",
      "Kurtosis:                      29.532   Cond. No.                     1.11e+03\n",
      "==============================================================================\n",
      "\n",
      "Warnings:\n",
      "[1] Standard Errors assume that the covariance matrix of the errors is correctly specified.\n",
      "[2] The condition number is large, 1.11e+03. This might indicate that there are\n",
      "strong multicollinearity or other numerical problems.\n"
     ]
    }
   ],
   "source": [
    "import statsmodels.formula.api as smf \n",
    "seed = 10\n",
    "test_size = 0.3\n",
    "trainingSet, testSet = train_test_split(df, test_size = test_size, random_state = seed)\n",
    "\n",
    "model_1 = smf.ols(formula = 'BodyW ~ BrainW', data = trainingSet)\n",
    "result = model_1.fit()\n",
    "print(result.summary())"
   ]
  },
  {
   "cell_type": "code",
   "execution_count": 89,
   "metadata": {},
   "outputs": [
    {
     "name": "stdout",
     "output_type": "stream",
     "text": [
      "                            OLS Regression Results                            \n",
      "==============================================================================\n",
      "Dep. Variable:                  BodyW   R-squared:                       0.337\n",
      "Model:                            OLS   Adj. R-squared:                  0.298\n",
      "Method:                 Least Squares   F-statistic:                     8.639\n",
      "Date:                Sat, 18 Jan 2020   Prob (F-statistic):            0.00917\n",
      "Time:                        23:56:01   Log-Likelihood:                -133.95\n",
      "No. Observations:                  19   AIC:                             271.9\n",
      "Df Residuals:                      17   BIC:                             273.8\n",
      "Df Model:                           1                                         \n",
      "Covariance Type:            nonrobust                                         \n",
      "==============================================================================\n",
      "                 coef    std err          t      P>|t|      [0.025      0.975]\n",
      "------------------------------------------------------------------------------\n",
      "Intercept    109.7106     79.978      1.372      0.188     -59.029     278.450\n",
      "BrainW         1.0920      0.372      2.939      0.009       0.308       1.876\n",
      "==============================================================================\n",
      "Omnibus:                       44.366   Durbin-Watson:                   2.399\n",
      "Prob(Omnibus):                  0.000   Jarque-Bera (JB):              151.521\n",
      "Skew:                           3.577   Prob(JB):                     1.25e-33\n",
      "Kurtosis:                      14.841   Cond. No.                         254.\n",
      "==============================================================================\n",
      "\n",
      "Warnings:\n",
      "[1] Standard Errors assume that the covariance matrix of the errors is correctly specified.\n"
     ]
    },
    {
     "name": "stderr",
     "output_type": "stream",
     "text": [
      "C:\\Users\\soura\\AppData\\Local\\Continuum\\anaconda3\\lib\\site-packages\\scipy\\stats\\stats.py:1416: UserWarning: kurtosistest only valid for n>=20 ... continuing anyway, n=19\n",
      "  \"anyway, n=%i\" % int(n))\n"
     ]
    }
   ],
   "source": [
    "model_2 = smf.ols(formula = 'BodyW ~ BrainW', data = testSet)\n",
    "result = model_2.fit()\n",
    "print(result.summary())"
   ]
  },
  {
   "cell_type": "markdown",
   "metadata": {},
   "source": [
    "## we hereby agree that this assignment is done in group and is original \n",
    "## group members: Sourav Gajbhiye and Shinakshi Sankhayan"
   ]
  },
  {
   "cell_type": "code",
   "execution_count": null,
   "metadata": {},
   "outputs": [],
   "source": []
  }
 ],
 "metadata": {
  "kernelspec": {
   "display_name": "Python 3",
   "language": "python",
   "name": "python3"
  },
  "language_info": {
   "codemirror_mode": {
    "name": "ipython",
    "version": 3
   },
   "file_extension": ".py",
   "mimetype": "text/x-python",
   "name": "python",
   "nbconvert_exporter": "python",
   "pygments_lexer": "ipython3",
   "version": "3.7.3"
  }
 },
 "nbformat": 4,
 "nbformat_minor": 2
}
